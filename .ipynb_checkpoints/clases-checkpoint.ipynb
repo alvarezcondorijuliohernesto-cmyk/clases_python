{
 "cells": [
  {
   "cell_type": "markdown",
   "id": "8eff58c3-e8e9-4ae7-9a5d-3673666d7dc4",
   "metadata": {},
   "source": [
    "Se le dan cuatro puntos Y y En un sistema de coordenadas cartesianas de 3 dimensiones. Usted está obligado a imprimir el ángulo entre el plano hecho por los puntos Y y En grados(No radianes). Deja que el ángulo sea\n",
    "\n",
    ". .\n",
    "\n",
    "¿Dónde x Y y x\n",
    "\n",
    ". .\n",
    "\n",
    "Aquí,\n",
    "Significa el producto de punto de Y y , y x Significa el producto cruzado de vectores Y y . . También,\n",
    "\n",
    ". .\n",
    "\n",
    "Formato de entrada\n",
    "\n",
    "Una línea de entrada que contiene los valores de número flotante separados del espacio de la\n",
    "Y y\n",
    "\n",
    "Las coordenadas de un punto.\n",
    "\n",
    "Formato de salida\n",
    "\n",
    "Emite el ángulo correcto hasta dos decimales.\n",
    "\n",
    "Entrada de la muestra\n",
    "\n",
    "0 4 5\n",
    "1 7 6\n",
    "0 5 9\n",
    "1 7 2\n",
    "\n",
    "Salida de la muestra\n",
    "\n",
    "8.19\n"
   ]
  },
  {
   "cell_type": "code",
   "execution_count": 22,
   "id": "aaceeced-c607-453a-a877-f21bef9bd869",
   "metadata": {},
   "outputs": [
    {
     "name": "stdin",
     "output_type": "stream",
     "text": [
      "ingrese los 3 valores del vector 1, SEPARADO POR ESPACIOS:  1 2 4\n",
      "ingrese los 3 valores del vector 2, SEPARADO POR ESPACIOS:  2 3 4\n",
      "ingrese los 3 valores del vector 3, SEPARADO POR ESPACIOS:  3 5 5\n",
      "ingrese los 3 valores del vector 4, SEPARADO POR ESPACIOS:  3 4 4\n"
     ]
    },
    {
     "name": "stdout",
     "output_type": "stream",
     "text": [
      "el coseno es: -0.8660254037844387\n"
     ]
    }
   ],
   "source": [
    "import numpy as np\n",
    "vectores = {}\n",
    "for i in range(4):\n",
    "    entrada = input(f\"ingrese los 3 valores del vector {i+1}, SEPARADO POR ESPACIOS: \")\n",
    "    valores = list(map(float, entrada.split()))\n",
    "    vectores[f\"v{i+1}\"] = np.array(valores)\n",
    "A = vectores[\"v1\"]\n",
    "B = vectores[\"v2\"]\n",
    "C = vectores[\"v3\"]\n",
    "D = vectores[\"v4\"]\n",
    "AB = B - A\n",
    "BC = C - B\n",
    "BD = D - B\n",
    "AC = C - A\n",
    "X = np.cross(AB,AC)\n",
    "Y = np.cross(BC,BD)\n",
    "cos = (np.dot(X, Y))/((np.linalg.norm(X))*(np.linalg.norm(y)))\n",
    "print(f\"el coseno es: {cos}\")\n",
    "        "
   ]
  },
  {
   "cell_type": "markdown",
   "id": "1045e54a-c4c1-429a-9752-4015c45c7d7c",
   "metadata": {},
   "source": [
    "# "
   ]
  }
 ],
 "metadata": {
  "kernelspec": {
   "display_name": "Python 3 (ipykernel)",
   "language": "python",
   "name": "python3"
  },
  "language_info": {
   "codemirror_mode": {
    "name": "ipython",
    "version": 3
   },
   "file_extension": ".py",
   "mimetype": "text/x-python",
   "name": "python",
   "nbconvert_exporter": "python",
   "pygments_lexer": "ipython3",
   "version": "3.13.5"
  }
 },
 "nbformat": 4,
 "nbformat_minor": 5
}
