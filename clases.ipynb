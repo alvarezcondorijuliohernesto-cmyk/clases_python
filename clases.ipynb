{
 "cells": [
  {
   "cell_type": "markdown",
   "id": "8eff58c3-e8e9-4ae7-9a5d-3673666d7dc4",
   "metadata": {},
   "source": [
    "Se le dan cuatro puntos Y y En un sistema de coordenadas cartesianas de 3 dimensiones. Usted está obligado a imprimir el ángulo entre el plano hecho por los puntos Y y En grados(No radianes). Deja que el ángulo sea\n",
    "\n",
    ". .\n",
    "\n",
    "¿Dónde x Y y x\n",
    "\n",
    ". .\n",
    "\n",
    "Aquí,\n",
    "Significa el producto de punto de Y y , y x Significa el producto cruzado de vectores Y y . . También,\n",
    "\n",
    ". .\n",
    "\n",
    "Formato de entrada\n",
    "\n",
    "Una línea de entrada que contiene los valores de número flotante separados del espacio de la\n",
    "Y y\n",
    "\n",
    "Las coordenadas de un punto.\n",
    "\n",
    "Formato de salida\n",
    "\n",
    "Emite el ángulo correcto hasta dos decimales.\n",
    "\n",
    "Entrada de la muestra\n",
    "\n",
    "0 4 5\n",
    "1 7 6\n",
    "0 5 9\n",
    "1 7 2\n",
    "\n",
    "Salida de la muestra\n",
    "\n",
    "8.19\n"
   ]
  },
  {
   "cell_type": "code",
   "execution_count": 16,
   "id": "aaceeced-c607-453a-a877-f21bef9bd869",
   "metadata": {},
   "outputs": [
    {
     "name": "stdin",
     "output_type": "stream",
     "text": [
      "ingrese los 3 valores del vector 1, SEPARADO POR ESPACIOS:  1 2 4\n"
     ]
    },
    {
     "name": "stdout",
     "output_type": "stream",
     "text": [
      "[1.0, 2.0, 4.0]\n",
      "[1. 2. 4.]\n"
     ]
    },
    {
     "name": "stdin",
     "output_type": "stream",
     "text": [
      "ingrese los 3 valores del vector 2, SEPARADO POR ESPACIOS:  1 3\n"
     ]
    },
    {
     "name": "stdout",
     "output_type": "stream",
     "text": [
      "[1.0, 3.0]\n",
      "[1. 3.]\n"
     ]
    },
    {
     "name": "stdin",
     "output_type": "stream",
     "text": [
      "ingrese los 3 valores del vector 3, SEPARADO POR ESPACIOS:  2\n"
     ]
    },
    {
     "name": "stdout",
     "output_type": "stream",
     "text": [
      "[2.0]\n",
      "[2.]\n"
     ]
    },
    {
     "name": "stdin",
     "output_type": "stream",
     "text": [
      "ingrese los 3 valores del vector 4, SEPARADO POR ESPACIOS:  2\n"
     ]
    },
    {
     "name": "stdout",
     "output_type": "stream",
     "text": [
      "[2.0]\n",
      "[2.]\n"
     ]
    }
   ],
   "source": [
    "import math\n",
    "import numpy as np\n",
    "for i in range(4):\n",
    "    entrada = input(f\"ingrese los 3 valores del vector {i+1}, SEPARADO POR ESPACIOS: \")\n",
    "    valores = list(map(float, entrada.split()))\n",
    "    vectores[f\"v{i+1}] = np.array(valores)"
   ]
  },
  {
   "cell_type": "code",
   "execution_count": null,
   "id": "eaeedfcd-f62d-4fc5-884c-527f6bec5fb1",
   "metadata": {},
   "outputs": [],
   "source": []
  }
 ],
 "metadata": {
  "kernelspec": {
   "display_name": "Python 3 (ipykernel)",
   "language": "python",
   "name": "python3"
  },
  "language_info": {
   "codemirror_mode": {
    "name": "ipython",
    "version": 3
   },
   "file_extension": ".py",
   "mimetype": "text/x-python",
   "name": "python",
   "nbconvert_exporter": "python",
   "pygments_lexer": "ipython3",
   "version": "3.13.5"
  }
 },
 "nbformat": 4,
 "nbformat_minor": 5
}
